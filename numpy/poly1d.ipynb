{
 "cells": [
  {
   "cell_type": "code",
   "execution_count": 1,
   "metadata": {},
   "outputs": [
    {
     "name": "stdout",
     "output_type": "stream",
     "text": [
      "   3     2\n",
      "2 x + 3 x + 5 x + 7\n"
     ]
    }
   ],
   "source": [
    "# numpy.poly1d()\n",
    "# 参数1：为一个数组，若没有参数2，则生成一个多项式\n",
    "import numpy as np\n",
    "p = np.poly1d([2,3,5,7])\n",
    "print(p)"
   ]
  },
  {
   "cell_type": "code",
   "execution_count": 2,
   "metadata": {},
   "outputs": [
    {
     "name": "stdout",
     "output_type": "stream",
     "text": [
      "   3      2\n",
      "1 x - 10 x + 31 x - 30\n"
     ]
    }
   ],
   "source": [
    "# 参数2：若参数2为True，则表示把数组中的值作为根，然后反推多项式\n",
    "# (x - 2)*(x - 3)*(x - 5)  = x3 - 10x2 + 31x -30\n",
    "import numpy as np\n",
    "q = np.poly1d([2,3,5],True)\n",
    "print(q)"
   ]
  },
  {
   "cell_type": "code",
   "execution_count": null,
   "metadata": {},
   "outputs": [],
   "source": []
  }
 ],
 "metadata": {
  "kernelspec": {
   "display_name": "Python 3",
   "language": "python",
   "name": "python3"
  },
  "language_info": {
   "codemirror_mode": {
    "name": "ipython",
    "version": 3
   },
   "file_extension": ".py",
   "mimetype": "text/x-python",
   "name": "python",
   "nbconvert_exporter": "python",
   "pygments_lexer": "ipython3",
   "version": "3.7.0"
  }
 },
 "nbformat": 4,
 "nbformat_minor": 2
}
