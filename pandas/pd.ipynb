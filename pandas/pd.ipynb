{
 "cells": [
  {
   "cell_type": "code",
   "execution_count": 13,
   "metadata": {},
   "outputs": [
    {
     "name": "stdout",
     "output_type": "stream",
     "text": [
      "0    1\n",
      "1    2\n",
      "2    3\n",
      "3    4\n",
      "dtype: int64\n",
      "series_1.index RangeIndex(start=0, stop=4, step=1)\n",
      "series_1.values [1 2 3 4]\n"
     ]
    }
   ],
   "source": [
    "from pandas import DataFrame, Series\n",
    "\n",
    "series_1=Series([1,2,3,4])\n",
    "print(series_1)\n",
    "print(\"series_1.index\",series_1.index)\n",
    "print(\"series_1.values\",series_1.values)\n",
    "# Series 左侧是索引，右侧是数据\n",
    "# Series 自动创建的索引"
   ]
  },
  {
   "cell_type": "code",
   "execution_count": 15,
   "metadata": {},
   "outputs": [
    {
     "name": "stdout",
     "output_type": "stream",
     "text": [
      "series_2 a    5\n",
      "b    6\n",
      "c    7\n",
      "d    8\n",
      "dtype: int64\n",
      "索引过滤 a    5\n",
      "d    8\n",
      "dtype: int64\n",
      "a     300\n",
      "b    2343\n",
      "c     233\n",
      "dtype: int64\n"
     ]
    }
   ],
   "source": [
    "from pandas import DataFrame, Series\n",
    "\n",
    "series_2=Series([5,6,7,8],index=['a','b','c','d'])\n",
    "print(\"series_2\",series_2)\n",
    "print(\"索引过滤\",series_2[['a','d']])\n",
    "\n",
    "# Series 从字典创建索引\n",
    "series=Series({'a':300,'b':2343,'c':233})\n",
    "print(series)"
   ]
  },
  {
   "cell_type": "code",
   "execution_count": 24,
   "metadata": {},
   "outputs": [
    {
     "name": "stdout",
     "output_type": "stream",
     "text": [
      "                                                   0\n",
      "0  {\"url\":\"https://qqe2.com\",\"name\":\"欢迎使用JSON在线解析...\n",
      "1  {\"url\":\"https://we232.com\",\"name\":\"Lipeng\",\"ar...\n",
      "2  {\"url\":\"https://www.so.cn\",\"name\":\"编辑器\",\"array...\n",
      "3  {\"url\":\"https://www234.cn\",\"name\":\"编辑器\",\"array...\n",
      "{\"url\":\"https://qqe2.com\",\"name\":\"欢迎使用JSON在线解析编辑器\",\"array\":{\"JSON校验\":\"http://jsonlint.qqe2.com/\",\"Cron生成\":\"http://cron.qqe2.com/\",\"JS加密解密\":\"http://edit.qqe2.com/\"},\"boolean\":true,\"null\":null,\"number\":123,\"object\":{\"a\":\"b\",\"c\":\"d\",\"e\":\"f\"}}\n",
      "\n",
      "[['{\"url\":\"https://qqe2.com\",\"name\":\"欢迎使用JSON在线解析编辑器\",\"array\":{\"JSON校验\":\"http://jsonlint.qqe2.com/\",\"Cron生成\":\"http://cron.qqe2.com/\",\"JS加密解密\":\"http://edit.qqe2.com/\"},\"boolean\":true,\"null\":null,\"number\":123,\"object\":{\"a\":\"b\",\"c\":\"d\",\"e\":\"f\"}}\\n']\n",
      " ['{\"url\":\"https://we232.com\",\"name\":\"Lipeng\",\"array\":{\"JSON校验\":\"http://jsonlint.qqe2.com/\",\"Cron生成\":\"http://cron.qqe2.com/\",\"JS加密解密\":\"http://edit.qqe2.com/\"},\"boolean\":true,\"null\":null,\"number\":123,\"object\":{\"a\":\"b\",\"c\":\"d\",\"e\":\"f\"}}\\n']\n",
      " ['{\"url\":\"https://www.so.cn\",\"name\":\"编辑器\",\"array\":{\"JSON校验\":\"http://jsonlint.qqe2.com/\",\"Cron生成\":\"http://cron.qqe2.com/\",\"JS加密解密\":\"http://edit.qqe2.com/\"},\"boolean\":true,\"null\":null,\"number\":123,\"object\":{\"a\":\"b\",\"c\":\"d\",\"e\":\"f\"}}\\n']\n",
      " ['{\"url\":\"https://www234.cn\",\"name\":\"编辑器\",\"array\":{\"JSON校验\":\"http://jsonlint.qqe2.com/\",\"Cron生成\":\"http://cron.qqe2.com/\",\"JS加密解密\":\"http://edit.qqe2.com/\"},\"boolean\":true,\"null\":null,\"number\":123,\"object\":{\"a\":\"b\",\"c\":\"d\",\"e\":\"f\"}}\\n']]\n"
     ]
    }
   ],
   "source": [
    "# Dataframe=多列Series\n",
    " \n",
    "import pandas as pd \n",
    "from pandas import DataFrame, Series\n",
    "\n",
    "records=[line for line in open(\"../data/m.json\")]\n",
    "f=DataFrame(records)\n",
    "\n",
    "print(f)\n",
    "print(f[0][0])\n",
    "print(f.values)\n",
    "# Dataframe 建立索引\n",
    "\n",
    "\n",
    "\n",
    "\n",
    "# fz=f['name'].value_counts()\n",
    "\n",
    "# print(fz[:10])\n",
    "\n",
    "# fz_counts[:10].plot(kind='barh',rot=0)\n"
   ]
  },
  {
   "cell_type": "code",
   "execution_count": 17,
   "metadata": {},
   "outputs": [
    {
     "name": "stdout",
     "output_type": "stream",
     "text": [
      "    A   B   C   D\n",
      "a   0   1   2   3\n",
      "b   4   5   6   7\n",
      "c   8   9  10  11\n",
      "d  12  13  14  15\n",
      "0\n",
      "A    0\n",
      "B    1\n",
      "C    2\n",
      "D    3\n",
      "Name: a, dtype: int64\n",
      "a     0\n",
      "b     4\n",
      "c     8\n",
      "d    12\n",
      "Name: A, dtype: int64\n",
      "a+b A    0\n",
      "B    1\n",
      "C    2\n",
      "D    3\n",
      "Name: a, dtype: int64 A    4\n",
      "B    5\n",
      "C    6\n",
      "D    7\n",
      "Name: b, dtype: int64 A     4\n",
      "B     6\n",
      "C     8\n",
      "D    10\n",
      "dtype: int64\n",
      "a*b A     0\n",
      "B     5\n",
      "C    12\n",
      "D    21\n",
      "dtype: int64\n",
      "a/b A    0.000000\n",
      "B    0.200000\n",
      "C    0.333333\n",
      "D    0.428571\n",
      "dtype: float64\n"
     ]
    }
   ],
   "source": [
    "import numpy as np\n",
    "import pandas as pd \n",
    "from pandas import DataFrame, Series\n",
    "\n",
    "data=DataFrame(np.arange(16).reshape((4,4)),index=['a','b','c','d'],columns=['A','B','C','D'])\n",
    "print(data)\n",
    "\n",
    "# loc 索引\n",
    "print(data.loc['a','A'])\n",
    "# loc 行\n",
    "print(data.loc['a'])\n",
    "# loc 列\n",
    "print(data['A'])\n",
    "a=data.loc['a']\n",
    "b=data.loc['b']\n",
    "print(\"a+b\",a,b,a+b)\n",
    "print(\"a*b\",a*b)\n",
    "print(\"a/b\",a/b)"
   ]
  },
  {
   "cell_type": "code",
   "execution_count": 19,
   "metadata": {},
   "outputs": [
    {
     "name": "stdout",
     "output_type": "stream",
     "text": [
      "    A   B   C   D\n",
      "a   0   1   2   3\n",
      "b   4   5   6   7\n",
      "c   8   9  10  11\n",
      "d  12  13  14  15\n",
      "     A    B    C    D\n",
      "a    0    1    4    9\n",
      "b   16   25   36   49\n",
      "c   64   81  100  121\n",
      "d  144  169  196  225\n"
     ]
    }
   ],
   "source": [
    "# np的一元函数，作用于pandas\n",
    "\n",
    "import numpy as np\n",
    "import pandas as pd \n",
    "from pandas import DataFrame, Series\n",
    "\n",
    "data=DataFrame(np.arange(16).reshape((4,4)),index=['a','b','c','d'],columns=['A','B','C','D'])\n",
    "print(data)\n",
    "\n",
    "print(np.square(data))"
   ]
  },
  {
   "cell_type": "code",
   "execution_count": 24,
   "metadata": {},
   "outputs": [
    {
     "name": "stdout",
     "output_type": "stream",
     "text": [
      "    A   B   C   D\n",
      "a   0   1   2   3\n",
      "b   4   5   6   7\n",
      "c   8   9  10  11\n",
      "d  12  13  14  15\n",
      "A    12\n",
      "B    12\n",
      "C    12\n",
      "D    12\n",
      "dtype: int64\n",
      "       A      B      C      D\n",
      "a   0.00   1.00   2.00   3.00\n",
      "b   4.00   5.00   6.00   7.00\n",
      "c   8.00   9.00  10.00  11.00\n",
      "d  12.00  13.00  14.00  15.00\n"
     ]
    }
   ],
   "source": [
    "# apple 函数应用与pandas\n",
    "\n",
    "import numpy as np\n",
    "import pandas as pd \n",
    "from pandas import DataFrame, Series\n",
    "\n",
    "data=DataFrame(np.arange(16).reshape((4,4)),index=['a','b','c','d'],columns=['A','B','C','D'])\n",
    "print(data)\n",
    "f=lambda x:x.max()-x.min()\n",
    "\n",
    "print(data.apply(f))\n",
    "\n",
    "m=lambda x:'%.2f'%x\n",
    "print(data.applymap(m))"
   ]
  },
  {
   "cell_type": "code",
   "execution_count": 25,
   "metadata": {},
   "outputs": [
    {
     "data": {
      "text/plain": [
       "a    0\n",
       "b    1\n",
       "c    2\n",
       "d    3\n",
       "dtype: int64"
      ]
     },
     "execution_count": 25,
     "metadata": {},
     "output_type": "execute_result"
    }
   ],
   "source": [
    "# pandas 排序\n",
    "series_sort=Series(range(4),index=['a','b','c','d'])\n",
    "series_sort.sort_index()\n"
   ]
  },
  {
   "cell_type": "code",
   "execution_count": null,
   "metadata": {},
   "outputs": [],
   "source": []
  }
 ],
 "metadata": {
  "kernelspec": {
   "display_name": "Python 3",
   "language": "python",
   "name": "python3"
  },
  "language_info": {
   "codemirror_mode": {
    "name": "ipython",
    "version": 3
   },
   "file_extension": ".py",
   "mimetype": "text/x-python",
   "name": "python",
   "nbconvert_exporter": "python",
   "pygments_lexer": "ipython3",
   "version": "3.7.2"
  }
 },
 "nbformat": 4,
 "nbformat_minor": 2
}
